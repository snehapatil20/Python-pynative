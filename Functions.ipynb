{
 "cells": [
  {
   "cell_type": "code",
   "execution_count": 2,
   "id": "b7c4c4b4",
   "metadata": {},
   "outputs": [
    {
     "name": "stdout",
     "output_type": "stream",
     "text": [
      "Name is :  Sneha Sambhaji Patil\n",
      "Age is :  23\n"
     ]
    }
   ],
   "source": [
    "#Exercise 1: Create a function in Python\n",
    "#Write a program to create a function that takes two arguments, name and age, and print their value.\n",
    "def values1(name, age):\n",
    "    print(\"Name is : \",name)\n",
    "    print(\"Age is : \",age)\n",
    "values1(\"Sneha Sambhaji Patil\",23)"
   ]
  },
  {
   "cell_type": "code",
   "execution_count": 15,
   "id": "c8156350",
   "metadata": {},
   "outputs": [
    {
     "name": "stdout",
     "output_type": "stream",
     "text": [
      "(1, 2, 3, 4, 6)\n",
      "dict_keys(['name', 'marks'])\n",
      "dict_values(['Sneha', '90'])\n"
     ]
    }
   ],
   "source": [
    "#Exercise 2: Create a function with variable length of arguments\n",
    "#Write a program to create function func1() to accept a variable length of arguments and print their value.\n",
    "\n",
    "def num1(*n1):\n",
    "    print(n1)\n",
    "num1(1,2,3,4,6)\n",
    "def KeyValue(**n2):\n",
    "    print(n2.keys())\n",
    "    print(n2.values())\n",
    "KeyValue(name=\"Sneha\",marks=\"90\")\n",
    "    "
   ]
  },
  {
   "cell_type": "code",
   "execution_count": 19,
   "id": "e773bae8",
   "metadata": {},
   "outputs": [
    {
     "name": "stdout",
     "output_type": "stream",
     "text": [
      "Sum is :  57\n",
      "Difference :  -11\n"
     ]
    }
   ],
   "source": [
    "#Write a program to create function calculation() such that it can accept two variables and calculate addition and subtraction. \n",
    "#Also, it must return both addition and subtraction in a single return call.\n",
    "def calculator(num1,num2):\n",
    "    add = num1+num2\n",
    "    sub = num1-num2\n",
    "    return add,sub\n",
    "s1, s2 = calculator(23,34)\n",
    "print(\"Sum is : \",s1)\n",
    "print(\"Difference : \",s2)"
   ]
  },
  {
   "cell_type": "code",
   "execution_count": 22,
   "id": "e0e02bea",
   "metadata": {},
   "outputs": [
    {
     "name": "stdout",
     "output_type": "stream",
     "text": [
      "Employee name is :  Shubham\n",
      "Employee salary is :  100000\n",
      "Employee name is :  Nikita\n",
      "Employee salary is :  9000\n"
     ]
    }
   ],
   "source": [
    "\"\"\"\n",
    "Exercise 4: Create a function with a default argument\n",
    "Write a program to create a function show_employee() using the following conditions.\n",
    "\n",
    "It should accept the employee’s name and salary and display both.\n",
    "If the salary is missing in the function call then assign default value 9000 to salary\n",
    "\"\"\"\n",
    "def show_employee(name , salary = 9000):\n",
    "    print(\"Employee name is : \",name)\n",
    "    print(\"Employee salary is : \",salary)\n",
    "show_employee(\"Shubham\",100000)\n",
    "show_employee(\"Nikita\")\n",
    "    "
   ]
  },
  {
   "cell_type": "code",
   "execution_count": 30,
   "id": "324185c8",
   "metadata": {},
   "outputs": [
    {
     "name": "stdout",
     "output_type": "stream",
     "text": [
      "Before adding 5 sum is :  101\n",
      "After adding 5 sum is :  106\n"
     ]
    }
   ],
   "source": [
    "#Exercise 5: Create an inner function to calculate the addition in the following way\n",
    "#Create an outer function that will accept two parameters, a and b\n",
    "#Create an inner function inside an outer function that will calculate the addition of a and b\n",
    "#At last, an outer function will add 5 into addition and return it\n",
    "def addition(a,b):\n",
    "    \n",
    "    def add(a,b):\n",
    "        \n",
    "        sum1 = 0\n",
    "        sum1 = a+b\n",
    "        print(\"Before adding 5 sum is : \",sum1)\n",
    "        return sum1\n",
    "    sum1 = add(a,b)\n",
    "    \n",
    "    sum1 = sum1+5\n",
    "    return sum1\n",
    "s1 = addition(23,78)\n",
    "print(\"After adding 5 sum is : \",s1)"
   ]
  },
  {
   "cell_type": "code",
   "execution_count": 38,
   "id": "a38f9d08",
   "metadata": {},
   "outputs": [
    {
     "name": "stdout",
     "output_type": "stream",
     "text": [
      "Ram\n",
      "34\n"
     ]
    }
   ],
   "source": [
    "#Exercise 7: Assign a different name to function and call it through the new name\n",
    "#Below is the function display_student(name, age). Assign a new name show_tudent(name, age) to it and call it using the new name.\n",
    "def display_student(name , age):\n",
    "    print(name)\n",
    "    print(age)\n",
    "\n",
    "    \n",
    "show_student = display_student\n",
    "show_student(\"Ram\",34)"
   ]
  },
  {
   "cell_type": "code",
   "execution_count": 41,
   "id": "323e74d8",
   "metadata": {},
   "outputs": [
    {
     "data": {
      "text/plain": [
       "[4, 6, 8, 12, 34, 56, 78]"
      ]
     },
     "execution_count": 41,
     "metadata": {},
     "output_type": "execute_result"
    }
   ],
   "source": [
    "#Exercise 8: Generate a Python list of all the even numbers between 4 to 30\n",
    "def EvenNumber(l1):\n",
    "    l2=[]\n",
    "    for i in l1:\n",
    "        if i%2==0:\n",
    "            l2.append(i)\n",
    "        \n",
    "    return l2\n",
    "EvenNumber([1,23,3,4,5,6,7,67,8,12,34,56,78])"
   ]
  },
  {
   "cell_type": "code",
   "execution_count": 43,
   "id": "b5f28323",
   "metadata": {},
   "outputs": [
    {
     "name": "stdout",
     "output_type": "stream",
     "text": [
      "Largest Number is :  777\n"
     ]
    }
   ],
   "source": [
    "#Exercise 9: Find the largest item from a given list\n",
    "def LargestNumber(l1):\n",
    "    m = l1[1]\n",
    "    for i in l1:\n",
    "        if i>m:\n",
    "            temp = m\n",
    "            m = i\n",
    "    return m \n",
    "m = LargestNumber([23,34,56,4,9,78,0,777])\n",
    "print('Largest Number is : ',m)       \n",
    "    "
   ]
  },
  {
   "cell_type": "code",
   "execution_count": null,
   "id": "94f047ff",
   "metadata": {},
   "outputs": [],
   "source": []
  }
 ],
 "metadata": {
  "kernelspec": {
   "display_name": "Python 3 (ipykernel)",
   "language": "python",
   "name": "python3"
  },
  "language_info": {
   "codemirror_mode": {
    "name": "ipython",
    "version": 3
   },
   "file_extension": ".py",
   "mimetype": "text/x-python",
   "name": "python",
   "nbconvert_exporter": "python",
   "pygments_lexer": "ipython3",
   "version": "3.9.12"
  }
 },
 "nbformat": 4,
 "nbformat_minor": 5
}
